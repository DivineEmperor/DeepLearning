{
 "cells": [
  {
   "cell_type": "code",
   "execution_count": 1,
   "metadata": {
    "id": "YeuAheYyhdZw"
   },
   "outputs": [],
   "source": [
    "# import libraries\n",
    "import torch\n",
    "import torch.nn as nn\n",
    "import torch.nn.functional as F"
   ]
  },
  {
   "cell_type": "markdown",
   "metadata": {
    "id": "OAw7w-Is8quO"
   },
   "source": [
    "# Using dropout"
   ]
  },
  {
   "cell_type": "code",
   "execution_count": 2,
   "metadata": {
    "id": "PakwZXu08s6B"
   },
   "outputs": [
    {
     "name": "stdout",
     "output_type": "stream",
     "text": [
      "tensor([1., 1., 1., 1., 1., 1., 1., 1., 1., 1.])\n",
      "tensor([1., 1., 0., 0., 0., 1., 0., 1., 0., 1.])\n",
      "tensor(1.)\n"
     ]
    }
   ],
   "source": [
    "# define a dropout instance and make some data\n",
    "prob = .5\n",
    "\n",
    "dropout = nn.Dropout(p=prob)\n",
    "x = torch.ones(10)\n",
    "\n",
    "# let's see what dropout returns\n",
    "y = dropout(x)\n",
    "print(x)\n",
    "print(y*(1-prob))\n",
    "print(torch.mean(y))"
   ]
  },
  {
   "cell_type": "code",
   "execution_count": null,
   "metadata": {
    "id": "hnsHnDFjVQ6i"
   },
   "outputs": [],
   "source": [
    "# dropout is turned off when evaluating the model\n",
    "dropout.eval()\n",
    "y = dropout(x)\n",
    "print(y)\n",
    "print(torch.mean(y))"
   ]
  },
  {
   "cell_type": "code",
   "execution_count": null,
   "metadata": {
    "id": "5bY95mSjVYvA"
   },
   "outputs": [],
   "source": [
    "# annoyingly, F.dropout() is not deactivated in eval mode:\n",
    "\n",
    "dropout.eval()\n",
    "y = F.dropout(x)\n",
    "print(y)\n",
    "print(torch.mean(y))"
   ]
  },
  {
   "cell_type": "code",
   "execution_count": null,
   "metadata": {
    "id": "Aa-GvWSLXcH8"
   },
   "outputs": [],
   "source": [
    "# but you can manually switch it off\n",
    "# dropout.eval()\n",
    "y = F.dropout(x,training=False)\n",
    "\n",
    "print(y)\n",
    "print(torch.mean(y))"
   ]
  },
  {
   "cell_type": "code",
   "execution_count": null,
   "metadata": {
    "id": "J_BFJYeTU_ak"
   },
   "outputs": [],
   "source": [
    "# the model needs to be reset after toggling into eval mode\n",
    "\n",
    "dropout.train()\n",
    "y = dropout(x)\n",
    "print(y) # with dropout\n",
    "\n",
    "\n",
    "dropout.eval()\n",
    "y = dropout(x)\n",
    "print(y) # without dropout\n",
    "\n",
    "\n",
    "# dropout.train()\n",
    "y = dropout(x)\n",
    "print(y) # still w/o dropout ;)"
   ]
  },
  {
   "cell_type": "code",
   "execution_count": null,
   "metadata": {
    "id": "eVXa_1zZkvbm"
   },
   "outputs": [],
   "source": []
  }
 ],
 "metadata": {
  "colab": {
   "authorship_tag": "ABX9TyOLdTgViM3bQDslDQDqBhQV",
   "collapsed_sections": [],
   "name": "DUDL_regular_dropoutInPytorch.ipynb",
   "provenance": [
    {
     "file_id": "17KCLWj5_rIPAJqSQ1dJFAkSrJ7ctDwne",
     "timestamp": 1616945891013
    },
    {
     "file_id": "1bv1_y32e3KEExFKKlPfC3rpw1JxmBr8H",
     "timestamp": 1616941708388
    },
    {
     "file_id": "1GMq8u7KyHB2AE7Teyls9gK1T01OduQSn",
     "timestamp": 1616697516760
    },
    {
     "file_id": "1Ui3kyHim-e0XLgDs2mkBxVlYg7TKYtcg",
     "timestamp": 1616615469755
    },
    {
     "file_id": "1YpHocGI4rApOxIBb1ZghCU5L-hFnv4CK",
     "timestamp": 1616608248670
    }
   ]
  },
  "kernelspec": {
   "display_name": "Python 3",
   "name": "python3"
  },
  "language_info": {
   "codemirror_mode": {
    "name": "ipython",
    "version": 3
   },
   "file_extension": ".py",
   "mimetype": "text/x-python",
   "name": "python",
   "nbconvert_exporter": "python",
   "pygments_lexer": "ipython3",
   "version": "3.10.11"
  }
 },
 "nbformat": 4,
 "nbformat_minor": 0
}
